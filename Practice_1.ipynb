{
  "nbformat": 4,
  "nbformat_minor": 0,
  "metadata": {
    "colab": {
      "name": "Practice 1.ipynb",
      "provenance": [],
      "authorship_tag": "ABX9TyP+OHSsq59rHHv2TtYlOB8N"
    },
    "kernelspec": {
      "name": "python3",
      "display_name": "Python 3"
    },
    "language_info": {
      "name": "python"
    }
  },
  "cells": [
    {
      "cell_type": "code",
      "execution_count": null,
      "metadata": {
        "id": "DuaFYzkKsm3S"
      },
      "outputs": [],
      "source": [
        ""
      ]
    }
  ]
}