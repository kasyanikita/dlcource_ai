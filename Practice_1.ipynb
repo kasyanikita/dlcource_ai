{
  "nbformat": 4,
  "nbformat_minor": 0,
  "metadata": {
    "colab": {
      "name": "Practice 1.ipynb",
      "provenance": [],
      "collapsed_sections": [],
      "authorship_tag": "ABX9TyP/QBBFYNBzP7ywUdjlYd1a"
    },
    "kernelspec": {
      "name": "python3",
      "display_name": "Python 3"
    },
    "language_info": {
      "name": "python"
    }
  },
  "cells": [
    {
      "cell_type": "markdown",
      "source": [
        "# Массивы"
      ],
      "metadata": {
        "id": "aWmH7odZwy7Y"
      }
    },
    {
      "cell_type": "code",
      "execution_count": 1,
      "metadata": {
        "id": "DuaFYzkKsm3S",
        "colab": {
          "base_uri": "https://localhost:8080/"
        },
        "outputId": "f3b4105c-44c9-4d40-e6f8-d88f6a753b09"
      },
      "outputs": [
        {
          "output_type": "execute_result",
          "data": {
            "text/plain": [
              "array([[0., 0., 0.],\n",
              "       [0., 0., 0.]], dtype=float32)"
            ]
          },
          "metadata": {},
          "execution_count": 1
        }
      ],
      "source": [
        "import numpy as np\n",
        "a = np.zeros((2, 3), dtype=np.float32) # create an array filled 0\n",
        "a"
      ]
    },
    {
      "cell_type": "code",
      "source": [
        "type(a)"
      ],
      "metadata": {
        "colab": {
          "base_uri": "https://localhost:8080/"
        },
        "id": "SuLOqS9PuECi",
        "outputId": "c53b11b6-0635-438b-98c6-fb5daa35acb4"
      },
      "execution_count": 2,
      "outputs": [
        {
          "output_type": "execute_result",
          "data": {
            "text/plain": [
              "numpy.ndarray"
            ]
          },
          "metadata": {},
          "execution_count": 2
        }
      ]
    },
    {
      "cell_type": "code",
      "source": [
        "a = np.zeros((2, 3, 4), dtype=np.float32); a"
      ],
      "metadata": {
        "colab": {
          "base_uri": "https://localhost:8080/"
        },
        "id": "Rik3YZ3Mu2Nd",
        "outputId": "421d9b7f-fc9a-45ed-8fbb-89b9b3e2540b"
      },
      "execution_count": 3,
      "outputs": [
        {
          "output_type": "execute_result",
          "data": {
            "text/plain": [
              "array([[[0., 0., 0., 0.],\n",
              "        [0., 0., 0., 0.],\n",
              "        [0., 0., 0., 0.]],\n",
              "\n",
              "       [[0., 0., 0., 0.],\n",
              "        [0., 0., 0., 0.],\n",
              "        [0., 0., 0., 0.]]], dtype=float32)"
            ]
          },
          "metadata": {},
          "execution_count": 3
        }
      ]
    },
    {
      "cell_type": "code",
      "source": [
        "a += 1; a"
      ],
      "metadata": {
        "colab": {
          "base_uri": "https://localhost:8080/"
        },
        "id": "EjzI8-zxvNvY",
        "outputId": "39248780-cb00-4a24-fe6c-3cf4d8d1d426"
      },
      "execution_count": 4,
      "outputs": [
        {
          "output_type": "execute_result",
          "data": {
            "text/plain": [
              "array([[[1., 1., 1., 1.],\n",
              "        [1., 1., 1., 1.],\n",
              "        [1., 1., 1., 1.]],\n",
              "\n",
              "       [[1., 1., 1., 1.],\n",
              "        [1., 1., 1., 1.],\n",
              "        [1., 1., 1., 1.]]], dtype=float32)"
            ]
          },
          "metadata": {},
          "execution_count": 4
        }
      ]
    },
    {
      "cell_type": "code",
      "source": [
        "a *= 2; a"
      ],
      "metadata": {
        "colab": {
          "base_uri": "https://localhost:8080/"
        },
        "id": "ZgcKPcuMvYj3",
        "outputId": "b8d7a718-403e-412a-81f4-82b404648ffd"
      },
      "execution_count": 5,
      "outputs": [
        {
          "output_type": "execute_result",
          "data": {
            "text/plain": [
              "array([[[2., 2., 2., 2.],\n",
              "        [2., 2., 2., 2.],\n",
              "        [2., 2., 2., 2.]],\n",
              "\n",
              "       [[2., 2., 2., 2.],\n",
              "        [2., 2., 2., 2.],\n",
              "        [2., 2., 2., 2.]]], dtype=float32)"
            ]
          },
          "metadata": {},
          "execution_count": 5
        }
      ]
    },
    {
      "cell_type": "code",
      "source": [
        "ones = lambda *shape: np.ones(shape, dtype=np.float32)"
      ],
      "metadata": {
        "id": "oKQ1MIv7vZy0"
      },
      "execution_count": 6,
      "outputs": []
    },
    {
      "cell_type": "code",
      "source": [
        "ones(1, 3, 4) # shape = (1, 3, 4)"
      ],
      "metadata": {
        "colab": {
          "base_uri": "https://localhost:8080/"
        },
        "id": "SERm3Rxav3Z_",
        "outputId": "80b685cc-7b82-49f2-9777-04ba1cf59141"
      },
      "execution_count": 7,
      "outputs": [
        {
          "output_type": "execute_result",
          "data": {
            "text/plain": [
              "array([[[1., 1., 1., 1.],\n",
              "        [1., 1., 1., 1.],\n",
              "        [1., 1., 1., 1.]]], dtype=float32)"
            ]
          },
          "metadata": {},
          "execution_count": 7
        }
      ]
    },
    {
      "cell_type": "markdown",
      "source": [
        "# Задача\n",
        "### Красиво вывести операцию A + B = С на экран"
      ],
      "metadata": {
        "id": "4rkzwVtBw-AR"
      }
    },
    {
      "cell_type": "code",
      "source": [
        "def operation_print(*expression):\n",
        "  lines = [str(x).split('\\n') for x in expression]\n",
        "  max_lines = max(len(x) for x in lines)\n",
        "  max_widths = [max(len(y) for y in x) for x in lines]\n",
        "  lines = [line + [' '] * (max_lines - len(line)) for line in lines]\n",
        "  lines = [[y + ' '*(max_widths[i] - len(y)) if i % 2 == 0 else y for y in x] for i, x in enumerate(lines)]\n",
        "  lines = np.array(lines).T\n",
        "  lines = '\\n'.join([' '.join(line) for line in lines])\n",
        "  print(lines)\n"
      ],
      "metadata": {
        "id": "nZoA9PwY1_lS"
      },
      "execution_count": 10,
      "outputs": []
    },
    {
      "cell_type": "code",
      "source": [
        "operation_print(ones(5, 2), '+', ones(5, 2), '=', ones(5, 2) * 2)"
      ],
      "metadata": {
        "colab": {
          "base_uri": "https://localhost:8080/"
        },
        "id": "r9elDdU73RfT",
        "outputId": "6cb4a1ff-a4da-4f85-cc03-a32f9db20b42"
      },
      "execution_count": 11,
      "outputs": [
        {
          "output_type": "stream",
          "name": "stdout",
          "text": [
            "[[1. 1.]  + [[1. 1.]  = [[2. 2.] \n",
            " [1. 1.]     [1. 1.]     [2. 2.] \n",
            " [1. 1.]     [1. 1.]     [2. 2.] \n",
            " [1. 1.]     [1. 1.]     [2. 2.] \n",
            " [1. 1.]]    [1. 1.]]    [2. 2.]]\n"
          ]
        }
      ]
    },
    {
      "cell_type": "code",
      "source": [
        "A = np.arange(1, 11).reshape(5,2)\n",
        "B = np.linspace(10, 30, 10).reshape(5,2)\n",
        "R = A * B\n",
        "operation_print(A, '*', B, '=', R)"
      ],
      "metadata": {
        "colab": {
          "base_uri": "https://localhost:8080/"
        },
        "id": "p5wTEDGi1okW",
        "outputId": "2032a744-c805-4497-981e-cc44f05e8136"
      },
      "execution_count": 12,
      "outputs": [
        {
          "output_type": "stream",
          "name": "stdout",
          "text": [
            "[[ 1  2]  * [[10.         12.22222222]  = [[ 10.          24.44444444] \n",
            " [ 3  4]     [14.44444444 16.66666667]     [ 43.33333333  66.66666667] \n",
            " [ 5  6]     [18.88888889 21.11111111]     [ 94.44444444 126.66666667] \n",
            " [ 7  8]     [23.33333333 25.55555556]     [163.33333333 204.44444444] \n",
            " [ 9 10]]    [27.77777778 30.        ]]    [250.         300.        ]]\n"
          ]
        }
      ]
    },
    {
      "cell_type": "code",
      "source": [
        "class Op:\n",
        "  def __init__(self, name, func):\n",
        "    self.name = name\n",
        "    self.func = func\n",
        "\n",
        "  def __call__(self, x, y):\n",
        "    r = self.func(x, y)\n",
        "    operation_print(x, self.name, y, '=', r)"
      ],
      "metadata": {
        "id": "SskiZFIsA84l"
      },
      "execution_count": 13,
      "outputs": []
    },
    {
      "cell_type": "code",
      "source": [
        "Add = Op('+', lambda x, y: x + y)\n",
        "Add(A, B)"
      ],
      "metadata": {
        "colab": {
          "base_uri": "https://localhost:8080/"
        },
        "id": "WBLJyTyBIef1",
        "outputId": "2918551a-7f3b-4421-e172-c9b38cf4ba5a"
      },
      "execution_count": 14,
      "outputs": [
        {
          "output_type": "stream",
          "name": "stdout",
          "text": [
            "[[ 1  2]  + [[10.         12.22222222]  = [[11.         14.22222222] \n",
            " [ 3  4]     [14.44444444 16.66666667]     [17.44444444 20.66666667] \n",
            " [ 5  6]     [18.88888889 21.11111111]     [23.88888889 27.11111111] \n",
            " [ 7  8]     [23.33333333 25.55555556]     [30.33333333 33.55555556] \n",
            " [ 9 10]]    [27.77777778 30.        ]]    [36.77777778 40.        ]]\n"
          ]
        }
      ]
    },
    {
      "cell_type": "code",
      "source": [
        "Mul = Op('*', lambda x, y: x * y)\n",
        "Mul(A, B)"
      ],
      "metadata": {
        "colab": {
          "base_uri": "https://localhost:8080/"
        },
        "id": "vl00Ck6UIoV5",
        "outputId": "91090ef7-bf61-476f-ee9b-fa21df74fc45"
      },
      "execution_count": 15,
      "outputs": [
        {
          "output_type": "stream",
          "name": "stdout",
          "text": [
            "[[ 1  2]  * [[10.         12.22222222]  = [[ 10.          24.44444444] \n",
            " [ 3  4]     [14.44444444 16.66666667]     [ 43.33333333  66.66666667] \n",
            " [ 5  6]     [18.88888889 21.11111111]     [ 94.44444444 126.66666667] \n",
            " [ 7  8]     [23.33333333 25.55555556]     [163.33333333 204.44444444] \n",
            " [ 9 10]]    [27.77777778 30.        ]]    [250.         300.        ]]\n"
          ]
        }
      ]
    },
    {
      "cell_type": "code",
      "source": [
        "MMul = Op('@', lambda x, y: x @ y)\n",
        "MMul(A.T, B)"
      ],
      "metadata": {
        "colab": {
          "base_uri": "https://localhost:8080/"
        },
        "id": "Gbqpcb4lIx2p",
        "outputId": "0a4a6261-4ac1-4bc1-821f-210fff6d4dbc"
      },
      "execution_count": 16,
      "outputs": [
        {
          "output_type": "stream",
          "name": "stdout",
          "text": [
            "[[ 1  3  5  7  9]  @ [[10.         12.22222222]  = [[561.11111111 616.66666667] \n",
            " [ 2  4  6  8 10]]    [14.44444444 16.66666667]     [655.55555556 722.22222222]]\n",
            "                      [18.88888889 21.11111111]                                 \n",
            "                      [23.33333333 25.55555556]                                 \n",
            "                      [27.77777778 30.        ]]                                \n"
          ]
        }
      ]
    },
    {
      "cell_type": "markdown",
      "source": [
        "# Индексация"
      ],
      "metadata": {
        "id": "_aMM-bqZ6gy5"
      }
    },
    {
      "cell_type": "code",
      "source": [
        "B"
      ],
      "metadata": {
        "id": "cqGv_NcqI79r",
        "colab": {
          "base_uri": "https://localhost:8080/"
        },
        "outputId": "7ac24a71-9d51-4cf4-da86-068100a1c340"
      },
      "execution_count": 17,
      "outputs": [
        {
          "output_type": "execute_result",
          "data": {
            "text/plain": [
              "array([[10.        , 12.22222222],\n",
              "       [14.44444444, 16.66666667],\n",
              "       [18.88888889, 21.11111111],\n",
              "       [23.33333333, 25.55555556],\n",
              "       [27.77777778, 30.        ]])"
            ]
          },
          "metadata": {},
          "execution_count": 17
        }
      ]
    },
    {
      "cell_type": "code",
      "source": [
        "B[0] # первая строка"
      ],
      "metadata": {
        "colab": {
          "base_uri": "https://localhost:8080/"
        },
        "id": "BtiEJhs96qzB",
        "outputId": "80356d4d-ab7f-40d2-e229-a1a737c89a6e"
      },
      "execution_count": 18,
      "outputs": [
        {
          "output_type": "execute_result",
          "data": {
            "text/plain": [
              "array([10.        , 12.22222222])"
            ]
          },
          "metadata": {},
          "execution_count": 18
        }
      ]
    },
    {
      "cell_type": "code",
      "source": [
        "B[:, 0] # первый столбец"
      ],
      "metadata": {
        "colab": {
          "base_uri": "https://localhost:8080/"
        },
        "id": "q2I8Dssd6vcS",
        "outputId": "bc03dc71-76bb-443f-d3f2-f0628103c512"
      },
      "execution_count": 19,
      "outputs": [
        {
          "output_type": "execute_result",
          "data": {
            "text/plain": [
              "array([10.        , 14.44444444, 18.88888889, 23.33333333, 27.77777778])"
            ]
          },
          "metadata": {},
          "execution_count": 19
        }
      ]
    },
    {
      "cell_type": "markdown",
      "source": [
        "# Broadcasting and stack"
      ],
      "metadata": {
        "id": "oANk4vuN7wat"
      }
    },
    {
      "cell_type": "code",
      "source": [
        "Add(A, B[0])"
      ],
      "metadata": {
        "colab": {
          "base_uri": "https://localhost:8080/"
        },
        "id": "tzExtEIE613H",
        "outputId": "4da7eb0b-f19d-4872-acce-8baf5e53af88"
      },
      "execution_count": 21,
      "outputs": [
        {
          "output_type": "stream",
          "name": "stdout",
          "text": [
            "[[ 1  2]  + [10.         12.22222222] = [[11.         14.22222222] \n",
            " [ 3  4]                                 [13.         16.22222222] \n",
            " [ 5  6]                                 [15.         18.22222222] \n",
            " [ 7  8]                                 [17.         20.22222222] \n",
            " [ 9 10]]                                [19.         22.22222222]]\n"
          ]
        }
      ]
    },
    {
      "cell_type": "code",
      "source": [
        "Mul(A, B[0])"
      ],
      "metadata": {
        "colab": {
          "base_uri": "https://localhost:8080/"
        },
        "id": "zqDO4aii73eX",
        "outputId": "3c5d5f12-3c48-46f4-ee5e-75eab5a38970"
      },
      "execution_count": 22,
      "outputs": [
        {
          "output_type": "stream",
          "name": "stdout",
          "text": [
            "[[ 1  2]  * [10.         12.22222222] = [[ 10.          24.44444444] \n",
            " [ 3  4]                                 [ 30.          48.88888889] \n",
            " [ 5  6]                                 [ 50.          73.33333333] \n",
            " [ 7  8]                                 [ 70.          97.77777778] \n",
            " [ 9 10]]                                [ 90.         122.22222222]]\n"
          ]
        }
      ]
    },
    {
      "cell_type": "code",
      "source": [
        "np.stack(list(B[0:1]) * 5)"
      ],
      "metadata": {
        "colab": {
          "base_uri": "https://localhost:8080/"
        },
        "id": "xcX3urSL8BrZ",
        "outputId": "f9d9fdc8-44c6-4718-a150-bf7916c4fa1f"
      },
      "execution_count": 32,
      "outputs": [
        {
          "output_type": "execute_result",
          "data": {
            "text/plain": [
              "array([[10.        , 12.22222222],\n",
              "       [10.        , 12.22222222],\n",
              "       [10.        , 12.22222222],\n",
              "       [10.        , 12.22222222],\n",
              "       [10.        , 12.22222222]])"
            ]
          },
          "metadata": {},
          "execution_count": 32
        }
      ]
    },
    {
      "cell_type": "markdown",
      "source": [
        "# Бинарные и логические операции"
      ],
      "metadata": {
        "id": "t_PEGhZ0_JiA"
      }
    },
    {
      "cell_type": "code",
      "source": [
        "A"
      ],
      "metadata": {
        "colab": {
          "base_uri": "https://localhost:8080/"
        },
        "id": "WC7tM7Et8cHe",
        "outputId": "8b666035-f607-4b31-a8af-f1ababbabdd8"
      },
      "execution_count": 33,
      "outputs": [
        {
          "output_type": "execute_result",
          "data": {
            "text/plain": [
              "array([[ 1,  2],\n",
              "       [ 3,  4],\n",
              "       [ 5,  6],\n",
              "       [ 7,  8],\n",
              "       [ 9, 10]])"
            ]
          },
          "metadata": {},
          "execution_count": 33
        }
      ]
    },
    {
      "cell_type": "code",
      "source": [
        "A > 3"
      ],
      "metadata": {
        "colab": {
          "base_uri": "https://localhost:8080/"
        },
        "id": "VgzxkOKp9TuB",
        "outputId": "fb219b6b-1154-45a4-b9e8-6bdd6aa81247"
      },
      "execution_count": 34,
      "outputs": [
        {
          "output_type": "execute_result",
          "data": {
            "text/plain": [
              "array([[False, False],\n",
              "       [False,  True],\n",
              "       [ True,  True],\n",
              "       [ True,  True],\n",
              "       [ True,  True]])"
            ]
          },
          "metadata": {},
          "execution_count": 34
        }
      ]
    },
    {
      "cell_type": "code",
      "source": [
        "B"
      ],
      "metadata": {
        "colab": {
          "base_uri": "https://localhost:8080/"
        },
        "id": "JC6ldfeU_uGQ",
        "outputId": "ad431bf0-ab81-4a3b-f004-ede325ed0fe8"
      },
      "execution_count": 35,
      "outputs": [
        {
          "output_type": "execute_result",
          "data": {
            "text/plain": [
              "array([[10.        , 12.22222222],\n",
              "       [14.44444444, 16.66666667],\n",
              "       [18.88888889, 21.11111111],\n",
              "       [23.33333333, 25.55555556],\n",
              "       [27.77777778, 30.        ]])"
            ]
          },
          "metadata": {},
          "execution_count": 35
        }
      ]
    },
    {
      "cell_type": "code",
      "source": [
        "np.isclose(B, 10)"
      ],
      "metadata": {
        "colab": {
          "base_uri": "https://localhost:8080/"
        },
        "id": "ZLmXjw8a_w0Q",
        "outputId": "9f73e2e8-1b33-4b8b-b445-8e52087f0619"
      },
      "execution_count": 36,
      "outputs": [
        {
          "output_type": "execute_result",
          "data": {
            "text/plain": [
              "array([[ True, False],\n",
              "       [False, False],\n",
              "       [False, False],\n",
              "       [False, False],\n",
              "       [False, False]])"
            ]
          },
          "metadata": {},
          "execution_count": 36
        }
      ]
    },
    {
      "cell_type": "code",
      "source": [
        "idx = np.isclose(B, 10) | np.isclose(B, 30)\n",
        "B[idx]"
      ],
      "metadata": {
        "colab": {
          "base_uri": "https://localhost:8080/"
        },
        "id": "rc9LBd8PAM3A",
        "outputId": "5e594c33-e1b5-4b49-fca4-e745792281d9"
      },
      "execution_count": 37,
      "outputs": [
        {
          "output_type": "execute_result",
          "data": {
            "text/plain": [
              "array([10., 30.])"
            ]
          },
          "metadata": {},
          "execution_count": 37
        }
      ]
    },
    {
      "cell_type": "code",
      "source": [
        ""
      ],
      "metadata": {
        "id": "MRZynlqwCmrs"
      },
      "execution_count": null,
      "outputs": []
    }
  ]
}